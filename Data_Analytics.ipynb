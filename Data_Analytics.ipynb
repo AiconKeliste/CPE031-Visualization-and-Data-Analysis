{
  "nbformat": 4,
  "nbformat_minor": 0,
  "metadata": {
    "colab": {
      "provenance": [],
      "authorship_tag": "ABX9TyO6cLWJvJCAxUzJAXflSrlY",
      "include_colab_link": true
    },
    "kernelspec": {
      "name": "python3",
      "display_name": "Python 3"
    },
    "language_info": {
      "name": "python"
    }
  },
  "cells": [
    {
      "cell_type": "markdown",
      "metadata": {
        "id": "view-in-github",
        "colab_type": "text"
      },
      "source": [
        "<a href=\"https://colab.research.google.com/github/AiconKeliste/CPE031-Visualization-and-Data-Analysis/blob/main/Data_Analytics.ipynb\" target=\"_parent\"><img src=\"https://colab.research.google.com/assets/colab-badge.svg\" alt=\"Open In Colab\"/></a>"
      ]
    },
    {
      "cell_type": "code",
      "execution_count": 6,
      "metadata": {
        "colab": {
          "base_uri": "https://localhost:8080/"
        },
        "id": "RjQD8psMDZXP",
        "outputId": "6dc3f84b-1f50-496e-ebc1-aea5b8e3ae8f"
      },
      "outputs": [
        {
          "output_type": "stream",
          "name": "stdout",
          "text": [
            "   apples  oranges\n",
            "0       3        0\n",
            "1       2        3\n",
            "2       0        7\n",
            "3       1        2\n"
          ]
        }
      ],
      "source": [
        "#Creating DataFrame\n",
        "import pandas as pd\n",
        "\n",
        "data = {\n",
        "    'apples':[3,2,0,1],\n",
        "    'oranges':[0,3,7,2]\n",
        "}\n",
        "\n",
        "purchases = pd.DataFrame(data)\n",
        "\n",
        "print(purchases)"
      ]
    },
    {
      "cell_type": "code",
      "source": [
        "#DataFrame Index\n",
        "import pandas as pd\n",
        "\n",
        "data = {\n",
        "    'apples':[3,2,0,1],\n",
        "    'oranges':[0,3,7,2]\n",
        "}\n",
        "\n",
        "purchases = pd.DataFrame(data, index = ['June', 'Robert', 'Lily', 'David'])\n",
        "\n",
        "print(purchases)"
      ],
      "metadata": {
        "colab": {
          "base_uri": "https://localhost:8080/"
        },
        "id": "25sG-Co0EacR",
        "outputId": "272bd589-1db5-4707-afb3-cf74c4f309b3"
      },
      "execution_count": 7,
      "outputs": [
        {
          "output_type": "stream",
          "name": "stdout",
          "text": [
            "        apples  oranges\n",
            "June         3        0\n",
            "Robert       2        3\n",
            "Lily         0        7\n",
            "David        1        2\n"
          ]
        }
      ]
    }
  ]
}